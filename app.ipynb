{
 "cells": [
  {
   "cell_type": "code",
   "execution_count": null,
   "id": "dec0211f",
   "metadata": {},
   "outputs": [],
   "source": [
    "import tensorflow as tf\n",
    "import numpy as np\n",
    "import matplotlib.pyplot as plt\n",
    "import cv2\n",
    "import os"
   ]
  },
  {
   "cell_type": "code",
   "execution_count": null,
   "id": "ec769748",
   "metadata": {},
   "outputs": [],
   "source": [
    "# Cascades\n",
    "face_cascade = cv2.CascadeClassifier(cv2.data.haarcascades + 'haarcascade_frontalface_default.xml')\n",
    "lefteye_cascade = cv2.CascadeClassifier(cv2.data.haarcascades + 'haarcascade_lefteye_2splits.xml')\n",
    "righteye_cascade = cv2.CascadeClassifier(cv2.data.haarcascades + 'haarcascade_righteye_2splits.xml')"
   ]
  },
  {
   "cell_type": "code",
   "execution_count": null,
   "id": "8618d6fe",
   "metadata": {},
   "outputs": [],
   "source": [
    "# load model\n",
    "model = tf.keras.models.load_model('train_dd.h5')"
   ]
  },
  {
   "cell_type": "code",
   "execution_count": null,
   "id": "b8516da0",
   "metadata": {},
   "outputs": [],
   "source": [
    "cap = cv2.VideoCapture(0)\n",
    "\n",
    "FONT = cv2.FONT_HERSHEY_SIMPLEX\n",
    "\n",
    "while True:\n",
    "    _, img = cap.read()\n",
    "    gray = cv2.cvtColor(img, cv2.COLOR_BGR2RGB)\n",
    "    \n",
    "    left_eyes = lefteye_cascade.detectMultiScale(img)\n",
    "    right_eyes = righteye_cascade.detectMultiScale(img)\n",
    "    all_eyes = [*left_eyes, *right_eyes]\n",
    "    status= ''\n",
    "    \n",
    "    if left_eyes == () and right_eyes == ():\n",
    "        text = \"Eyes not detected!\"\n",
    "    else:\n",
    "        # print(len(all_eyes))\n",
    "        preds, img_size = [], 224\n",
    "        \n",
    "        for i, (x,y,w,h) in enumerate(all_eyes):\n",
    "            # print(i, (x, y, w, h))\n",
    "            roi_gray = gray[y:y+h, x:x+w]\n",
    "            roi_color = img[y:y+h, x:x+w]\n",
    "            cv2.rectangle(img, (x, y), (x+w, y+h), (0, 255, 0), 2)\n",
    "            # plt.imshow(cv2.cvtColor(roi_color, cv2.COLOR_BGR2RGB))\n",
    "            new_array = cv2.resize(roi_color, (img_size, img_size))\n",
    "            x_input = np.array(new_array).reshape(1, img_size, img_size, 3)\n",
    "            x_input = x_input / 255.0\n",
    "\n",
    "            prediction = model.predict(x_input)\n",
    "            preds += prediction,\n",
    "            \n",
    "            print(prediction)\n",
    "            \n",
    "        if any(p < 0.9 for p in preds):\n",
    "            text = 'DROWSY'\n",
    "            status = \"Closed Eyes\"\n",
    "            cv2.putText(img, status, (50, 450), FONT, 3, (0, 0, 255), 2, cv2.LINE_4)\n",
    "            cv2.rectangle(img, (x, x), (x + w, y + h), (0,0,0), -1)\n",
    "            \n",
    "        else:\n",
    "            text = 'ACTIVE'\n",
    "            status = \"Open Eyes\"\n",
    "            cv2.putText(img, status, (50, 450), FONT, 3, (0, 255, 0), 2, cv2.LINE_4)\n",
    "            x1, y1, w1, h1 = 0, 0, 175, 75\n",
    "            \n",
    "            # Notice on top-left\n",
    "            cv2.rectangle(img, (x1, x1), (x1 + w1, y1 + h1), (0,0,0), -1)\n",
    "            cv2.putText(img, text , (x1 + int(w1/10), y1 + int(h1 / 2)), \n",
    "                       FONT, 0.7, (0, 255, 0), 2)\n",
    "            \n",
    "    gray = cv2.cvtColor(img, cv2.COLOR_BGR2GRAY)\n",
    "    faces = face_cascade.detectMultiScale(gray, 1.1, 4)\n",
    "\n",
    "    for x, y, w, h in faces:\n",
    "        cv2.rectangle(img, (x,y), (x+w,y+h), (0, 0, 255), 2)\n",
    "        \n",
    "    # cv2.putText(img, status,(50, 50), FONT, 3, (0,0,255), 2, cv2.LINE_4)\n",
    "    \n",
    "    cv2.imshow('Drowsiness Detection', img)\n",
    "\n",
    "    \n",
    "    if cv2.waitKey(2) & 0xff == ord('q'):\n",
    "        break\n",
    "\n",
    "cap.release()\n",
    "cv2.destroyAllWindows()\n",
    "        "
   ]
  },
  {
   "cell_type": "code",
   "execution_count": null,
   "id": "3c2ea741",
   "metadata": {},
   "outputs": [],
   "source": [
    "cap.release()"
   ]
  }
 ],
 "metadata": {
  "kernelspec": {
   "display_name": "Python 3",
   "language": "python",
   "name": "python3"
  },
  "language_info": {
   "codemirror_mode": {
    "name": "ipython",
    "version": 3
   },
   "file_extension": ".py",
   "mimetype": "text/x-python",
   "name": "python",
   "nbconvert_exporter": "python",
   "pygments_lexer": "ipython3",
   "version": "3.8.1"
  }
 },
 "nbformat": 4,
 "nbformat_minor": 5
}
