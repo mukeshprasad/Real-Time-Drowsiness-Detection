{
 "cells": [
  {
   "cell_type": "code",
   "execution_count": null,
   "metadata": {
    "colab": {
     "base_uri": "https://localhost:8080/"
    },
    "id": "7KFqa2LuCYTB",
    "outputId": "2706c64c-3f1c-4611-9c4a-7de35f359327"
   },
   "outputs": [],
   "source": [
    "!pip install tensorflow-gpu"
   ]
  },
  {
   "cell_type": "code",
   "execution_count": null,
   "metadata": {
    "colab": {
     "base_uri": "https://localhost:8080/"
    },
    "id": "x4rXwElFCdN8",
    "outputId": "db586e2f-318c-42bf-dc11-d010d49506d7"
   },
   "outputs": [],
   "source": [
    "!pip install opencv-python\n",
    "!pip install matplotlib\n",
    "!pip install numpy"
   ]
  },
  {
   "cell_type": "code",
   "execution_count": null,
   "metadata": {
    "id": "1UQXb0ajDctm"
   },
   "outputs": [],
   "source": [
    "import tensorflow as tf\n",
    "import cv2\n",
    "import os\n",
    "import matplotlib.pyplot as plt\n",
    "import numpy as np"
   ]
  },
  {
   "cell_type": "code",
   "execution_count": null,
   "metadata": {
    "id": "NU8clChVDowF"
   },
   "outputs": [],
   "source": [
    "img_array = cv2.imread(\"Dataset/Closed_Eyes/image_name.png\", cv2.IMREAD_GRAYSCALE)"
   ]
  },
  {
   "cell_type": "code",
   "execution_count": null,
   "metadata": {
    "id": "7BVO6lXiDozG"
   },
   "outputs": [],
   "source": [
    "plt.imshow(img_array, cmap='gray')"
   ]
  },
  {
   "cell_type": "code",
   "execution_count": null,
   "metadata": {
    "id": "J3DP7fQRDo2s"
   },
   "outputs": [],
   "source": [
    "img_array.shape"
   ]
  },
  {
   "cell_type": "code",
   "execution_count": null,
   "metadata": {
    "id": "r_1q8jqPDpIT"
   },
   "outputs": [],
   "source": [
    "DATA_DIRECTORY = \"Dataset/\"\n",
    "classes = ['Closed_Eyes', 'Open_Eyes']\n",
    "for category in classes:\n",
    "    path = os.path.join(DATA_DIRECTORY, category)\n",
    "    for img in os.listdir(path):\n",
    "        img_array = cv2.imread(os.path.join(path, img), cv2.IMREAD_GRAYSCALE)\n",
    "        back_to_rgb = cv2.cvtColor(img_array, cv2.COLOR_GRAY2RGB)\n",
    "        plt.imshow(img_array, cmap='gray')\n",
    "        plt.show()\n",
    "        break\n",
    "    break"
   ]
  },
  {
   "cell_type": "code",
   "execution_count": null,
   "metadata": {
    "id": "fS4mnytxJx0y"
   },
   "outputs": [],
   "source": [
    "img_size = 224"
   ]
  },
  {
   "cell_type": "code",
   "execution_count": null,
   "metadata": {
    "id": "A1rmGNW7Jx43"
   },
   "outputs": [],
   "source": [
    "new_array = cv2.resize(back_to_rgb, (img_size, img_size))\n",
    "plt.imshow(new_array, cmap='gray')\n",
    "plt.show()"
   ]
  },
  {
   "cell_type": "markdown",
   "metadata": {
    "id": "zPk8EaNHKzsn"
   },
   "source": [
    "###**bold text** **Reading all the images and converting them into an array for data and labels**"
   ]
  },
  {
   "cell_type": "code",
   "execution_count": null,
   "metadata": {
    "id": "PP16JeycJx7x"
   },
   "outputs": [],
   "source": [
    "training_data = []\n",
    "\n",
    "def create_training_data():\n",
    "    for category in classes:\n",
    "        path = os.path.join(DATA_DIRECTORY, category)\n",
    "        class_num = classes.index(category)\n",
    "        for img in os.listdir(path):\n",
    "            try:\n",
    "                img_array = cv2.imread(os.path.join(path, img), cv2.IMREAD_GRAYSCALE)\n",
    "                back_to_rgb = cv2.cvtColor(img_array, cv2.COLOR_GRAY2RGB)\n",
    "                new_array = cv2.resize(back_to_rgb, (img_size, img_size))\n",
    "                training_data.append([new_array, class_num])\n",
    "            except Exception as e:\n",
    "                print(\"Exception Found:\" + e)\n",
    "                "
   ]
  },
  {
   "cell_type": "code",
   "execution_count": null,
   "metadata": {
    "id": "rxShKf1FJx-v"
   },
   "outputs": [],
   "source": [
    "create_training_data()"
   ]
  },
  {
   "cell_type": "code",
   "execution_count": null,
   "metadata": {
    "id": "qnB0zo-kJyA8"
   },
   "outputs": [],
   "source": [
    "len(training_data)"
   ]
  },
  {
   "cell_type": "code",
   "execution_count": null,
   "metadata": {
    "id": "vrLC97MTJyEC"
   },
   "outputs": [],
   "source": [
    "import random\n",
    "random.shuffle(training_data)"
   ]
  },
  {
   "cell_type": "code",
   "execution_count": null,
   "metadata": {
    "id": "h9Hfe3okJyGS"
   },
   "outputs": [],
   "source": [
    "x = []\n",
    "y = []\n",
    "\n",
    "for features, label in training_data:\n",
    "    x.append(features)\n",
    "    y.append(label)\n",
    "\n",
    "x = np.array(x).reshape(-1, img_size, img_size, 3)"
   ]
  },
  {
   "cell_type": "code",
   "execution_count": null,
   "metadata": {
    "id": "6Uamwl9cNXrP"
   },
   "outputs": [],
   "source": [
    "x.shape"
   ]
  },
  {
   "cell_type": "code",
   "execution_count": null,
   "metadata": {
    "id": "2jeyjalaNXt_"
   },
   "outputs": [],
   "source": [
    "# normalize the data\n",
    "x = x / 255.0"
   ]
  },
  {
   "cell_type": "code",
   "execution_count": null,
   "metadata": {
    "id": "CXXGoFRBNXwm"
   },
   "outputs": [],
   "source": [
    "y = np.array(y)"
   ]
  },
  {
   "cell_type": "code",
   "execution_count": null,
   "metadata": {
    "id": "YgkmylSCNXyh"
   },
   "outputs": [],
   "source": [
    "import pickle\n",
    "\n",
    "pickle_out = open(\"x.pickle\", \"wb\")\n",
    "pickle.dump(x, pickle_out)\n",
    "pickle_out.close()\n",
    "\n",
    "pickle_out = open(\"y.pickle\", \"wb\")\n",
    "pickle.dump(y, pickle_out)\n",
    "pickle_out.close()"
   ]
  },
  {
   "cell_type": "code",
   "execution_count": null,
   "metadata": {
    "id": "EOb5nRxnOhHG"
   },
   "outputs": [],
   "source": [
    "pickle_in = open(\"x.pickle\", \"rb\")\n",
    "x = pickle.load(pickle_in)\n",
    "\n",
    "pickle_in = open(\"y.pickle\", \"rb\")\n",
    "y = pickle.load(pickle_in)"
   ]
  },
  {
   "cell_type": "markdown",
   "metadata": {
    "id": "6BdeR4pFONlw"
   },
   "source": [
    "###**Deep Learning Model for training - Transfer Learning**"
   ]
  },
  {
   "cell_type": "code",
   "execution_count": null,
   "metadata": {
    "id": "iprVrbfbNX1E"
   },
   "outputs": [],
   "source": [
    "import tensorflow as tf\n",
    "from tensorflow import keras\n",
    "from tensorflow.keras import layers"
   ]
  },
  {
   "cell_type": "code",
   "execution_count": null,
   "metadata": {
    "colab": {
     "base_uri": "https://localhost:8080/"
    },
    "id": "JJ12TVtsNX4v",
    "outputId": "18de70cb-918a-4b56-a3ce-0467a0ecb27f"
   },
   "outputs": [],
   "source": [
    "model = tf.keras.applications.mobilenet.MobileNet()"
   ]
  },
  {
   "cell_type": "code",
   "execution_count": null,
   "metadata": {
    "colab": {
     "base_uri": "https://localhost:8080/"
    },
    "id": "qRdp1e9qPmEX",
    "outputId": "c94400af-fd09-4465-874f-e288baab2178"
   },
   "outputs": [],
   "source": [
    "model.summary()"
   ]
  },
  {
   "cell_type": "markdown",
   "metadata": {
    "id": "hO3wDaCGP007"
   },
   "source": [
    "#### Transfer Learning"
   ]
  },
  {
   "cell_type": "code",
   "execution_count": null,
   "metadata": {
    "colab": {
     "base_uri": "https://localhost:8080/",
     "height": 162
    },
    "id": "8C9ny4J7PqhK",
    "outputId": "e17f3eb1-c098-44af-e0ca-24a555eb2ad7"
   },
   "outputs": [],
   "source": [
    "base_input = model.layers[0].input  ## input"
   ]
  },
  {
   "cell_type": "code",
   "execution_count": null,
   "metadata": {
    "id": "JuRzT0h2QM5Y"
   },
   "outputs": [],
   "source": [
    "base_output = model.layers[-4].output ## output"
   ]
  },
  {
   "cell_type": "code",
   "execution_count": null,
   "metadata": {
    "id": "I2UisnPiQXT1"
   },
   "outputs": [],
   "source": [
    "flat_layers = layers.Flatten()(base_output)\n",
    "final_output = layers.Dense(1)(flat_layers)\n",
    "final_output = layers.Activation('sigmoid')(final_output)"
   ]
  },
  {
   "cell_type": "code",
   "execution_count": null,
   "metadata": {
    "id": "JmWch49QQsxe"
   },
   "outputs": [],
   "source": [
    "new_model = keras.Model(inputs=base_input, outputs=final_output)"
   ]
  },
  {
   "cell_type": "code",
   "execution_count": null,
   "metadata": {
    "colab": {
     "base_uri": "https://localhost:8080/"
    },
    "id": "QbYXpAPeRfsf",
    "outputId": "e07d2baa-0353-4ccb-8bc9-6e6147907478"
   },
   "outputs": [],
   "source": [
    "new_model.summary()"
   ]
  },
  {
   "cell_type": "markdown",
   "metadata": {
    "id": "c8g1uWamcdtC"
   },
   "source": [
    "####**Settings for binary Classification (open/closed)**"
   ]
  },
  {
   "cell_type": "code",
   "execution_count": null,
   "metadata": {
    "id": "svwYpL0qRjOa"
   },
   "outputs": [],
   "source": [
    "new_model.compile(loss=\"binary_crossentropy\", optimizer=\"adam\", metrics=[\"accuracy\"])"
   ]
  },
  {
   "cell_type": "code",
   "execution_count": null,
   "metadata": {
    "id": "y8aOGuOJdDBR"
   },
   "outputs": [],
   "source": [
    "## TODO\n",
    "new_model.fit(x, y, epochs)"
   ]
  },
  {
   "cell_type": "code",
   "execution_count": null,
   "metadata": {
    "id": "IJlEUBNCdPrc"
   },
   "outputs": [],
   "source": [
    "import os"
   ]
  },
  {
   "cell_type": "code",
   "execution_count": null,
   "metadata": {
    "colab": {
     "base_uri": "https://localhost:8080/"
    },
    "id": "2z_xpFPTdPuC",
    "outputId": "1c060ab1-29bb-4985-d8c1-ee33c814282c"
   },
   "outputs": [],
   "source": [
    "os.listdir('drive/MyDrive/DD')"
   ]
  },
  {
   "cell_type": "code",
   "execution_count": null,
   "metadata": {
    "colab": {
     "base_uri": "https://localhost:8080/"
    },
    "id": "aqDW-wmldPwp",
    "outputId": "82bd5c76-50b0-482c-a771-102f2e468433"
   },
   "outputs": [],
   "source": [
    "len(os.listdir('drive/MyDrive/Drowsy/Dataset/Closed'))"
   ]
  },
  {
   "cell_type": "code",
   "execution_count": null,
   "metadata": {
    "id": "9VcUg4pnPI05"
   },
   "outputs": [],
   "source": [
    "img_array = cv2.imread(\"drive/MyDrive/Drowsy/Dataset/Closed/s0001_01842_0_0_1_0_0_01.png\", cv2.IMREAD_GRAYSCALE)"
   ]
  },
  {
   "cell_type": "code",
   "execution_count": null,
   "metadata": {
    "colab": {
     "base_uri": "https://localhost:8080/",
     "height": 555
    },
    "id": "uOTtMXNfTGv7",
    "outputId": "1c1329ed-0acb-4e31-d408-f54cd07d5c4b"
   },
   "outputs": [],
   "source": [
    "plt.imshow(img_array)"
   ]
  },
  {
   "cell_type": "code",
   "execution_count": null,
   "metadata": {
    "colab": {
     "base_uri": "https://localhost:8080/",
     "height": 162
    },
    "id": "D2S3toZwTVHL",
    "outputId": "bc2f835e-a025-4f27-b9dd-efebf0261b49"
   },
   "outputs": [],
   "source": [
    "img_array.shape"
   ]
  },
  {
   "cell_type": "code",
   "execution_count": null,
   "metadata": {
    "id": "j5ojVgwSTs7D"
   },
   "outputs": [],
   "source": [
    "import tensorflow as tf\n",
    "import cv2\n",
    "import os\n",
    "import matplotlib.pyplot as plt\n",
    "\n",
    "import numpy as np"
   ]
  },
  {
   "cell_type": "code",
   "execution_count": null,
   "metadata": {
    "colab": {
     "base_uri": "https://localhost:8080/"
    },
    "id": "_xT0yNzzZyZm",
    "outputId": "8daf27ee-2251-476b-e281-8e0e1cdedb06"
   },
   "outputs": [],
   "source": [
    "os.listdir('drive/MyDrive/Drowsy/Dataset')"
   ]
  },
  {
   "cell_type": "code",
   "execution_count": null,
   "metadata": {
    "id": "eJPGksukZycf"
   },
   "outputs": [],
   "source": [
    "img_array = cv2.imread(\"drive/MyDrive/Drowsy/Dataset/Closed/s0001_00001_0_0_0_0_0_01.png\", cv2.IMREAD_GRAYSCALE)"
   ]
  },
  {
   "cell_type": "code",
   "execution_count": null,
   "metadata": {
    "colab": {
     "base_uri": "https://localhost:8080/",
     "height": 285
    },
    "id": "okuLAYvOZyex",
    "outputId": "ad294c5a-60e7-4dfd-c4b3-2a372dda004d"
   },
   "outputs": [],
   "source": [
    "plt.imshow(img_array, cmap=\"gray\")"
   ]
  },
  {
   "cell_type": "code",
   "execution_count": null,
   "metadata": {
    "colab": {
     "base_uri": "https://localhost:8080/"
    },
    "id": "fRplEWiUcKdV",
    "outputId": "b435f2f2-fe27-48e3-bdf8-32c1c1afb5c6"
   },
   "outputs": [],
   "source": [
    "img_array.shape"
   ]
  },
  {
   "cell_type": "code",
   "execution_count": null,
   "metadata": {
    "colab": {
     "base_uri": "https://localhost:8080/",
     "height": 268
    },
    "id": "K_0Q4gcQcSr9",
    "outputId": "10e3fd5c-1b9b-47bf-9619-8520d737be6c"
   },
   "outputs": [],
   "source": [
    "# Preparing data\n",
    "DATA_DIRECTORY = \"drive/MyDrive/Drowsy/Dataset/\"\n",
    "classes = ['Closed', 'Open']\n",
    "for category in classes:\n",
    "    path = os.path.join(DATA_DIRECTORY, category)\n",
    "    for img in os.listdir(path):\n",
    "        img_array = cv2.imread(os.path.join(path, img), cv2.IMREAD_GRAYSCALE)\n",
    "        back_to_rgb = cv2.cvtColor(img_array, cv2.COLOR_GRAY2RGB)\n",
    "        plt.imshow(img_array, cmap=\"gray\")\n",
    "        plt.show()\n",
    "        break\n",
    "    break"
   ]
  },
  {
   "cell_type": "code",
   "execution_count": null,
   "metadata": {
    "colab": {
     "base_uri": "https://localhost:8080/",
     "height": 269
    },
    "id": "O8hVTkvidsiP",
    "outputId": "c301d399-8781-4047-ad40-4d69c6a7e2c2"
   },
   "outputs": [],
   "source": [
    "img_size = 224\n",
    "new_array = cv2.resize(back_to_rgb, (img_size, img_size))\n",
    "plt.imshow(new_array, cmap=\"gray\")\n",
    "plt.show()"
   ]
  },
  {
   "cell_type": "code",
   "execution_count": null,
   "metadata": {
    "colab": {
     "base_uri": "https://localhost:8080/"
    },
    "id": "f0Krgaw2eRmB",
    "outputId": "3ec55957-7c6d-4a1d-ad78-36d174062918"
   },
   "outputs": [],
   "source": [
    "new_array.shape"
   ]
  },
  {
   "cell_type": "code",
   "execution_count": null,
   "metadata": {
    "id": "3XnrbarseRoq"
   },
   "outputs": [],
   "source": [
    "## READING all images and converting them into an array for data and labels"
   ]
  },
  {
   "cell_type": "code",
   "execution_count": null,
   "metadata": {
    "id": "uh-IWuEmeRr7"
   },
   "outputs": [],
   "source": [
    "training_data = []\n",
    "def create_training_data():\n",
    "    num = 1\n",
    "    for category in classes:\n",
    "        path = os.path.join(DATA_DIRECTORY, category)\n",
    "        class_num = classes.index(category)\n",
    "        for img in os.listdir(path):\n",
    "            try:\n",
    "                print(num);num += 1\n",
    "                img_array = cv2.imread(os.path.join(path, img), cv2.IMREAD_GRAYSCALE)\n",
    "                back_to_rgb = cv2.cvtColor(img_array, cv2.COLOR_GRAY2RGB)\n",
    "                new_array = cv2.resize(back_to_rgb, (img_size, img_size))\n",
    "                training_data.append([new_array, class_num])\n",
    "            except Exception as e:\n",
    "                print(\"Exception Found\" + e)\n"
   ]
  },
  {
   "cell_type": "code",
   "execution_count": null,
   "metadata": {
    "colab": {
     "base_uri": "https://localhost:8080/"
    },
    "id": "f6VjhL5ggFRq",
    "outputId": "2c2a2bfe-e45c-4aa8-ebc1-d6253d6dc999"
   },
   "outputs": [],
   "source": [
    "create_training_data()"
   ]
  },
  {
   "cell_type": "code",
   "execution_count": null,
   "metadata": {
    "colab": {
     "base_uri": "https://localhost:8080/"
    },
    "id": "vqd_-rr-gFUg",
    "outputId": "448e73bd-c9f2-41ff-89cd-475d03af1944"
   },
   "outputs": [],
   "source": [
    "len(training_data)"
   ]
  },
  {
   "cell_type": "code",
   "execution_count": null,
   "metadata": {
    "id": "lz9lzPDigFXE"
   },
   "outputs": [],
   "source": [
    "import random\n",
    "random.shuffle(training_data)"
   ]
  },
  {
   "cell_type": "code",
   "execution_count": null,
   "metadata": {
    "id": "p6Y30O1SgFZz"
   },
   "outputs": [],
   "source": [
    "X, Y = [], []\n",
    "for features, label in training_data:\n",
    "    X.append(features)\n",
    "    Y.append(label)\n"
   ]
  },
  {
   "cell_type": "code",
   "execution_count": null,
   "metadata": {
    "id": "-pu5K4wjgFc2"
   },
   "outputs": [],
   "source": [
    "X = np.array(X).reshape(-1, img_size, img_size, 3)"
   ]
  },
  {
   "cell_type": "code",
   "execution_count": null,
   "metadata": {
    "colab": {
     "base_uri": "https://localhost:8080/"
    },
    "id": "C8fikh2lgFfF",
    "outputId": "33d43719-3a87-423c-f06e-35f6d81df237"
   },
   "outputs": [],
   "source": [
    "X.shape"
   ]
  },
  {
   "cell_type": "code",
   "execution_count": null,
   "metadata": {
    "id": "jabAYIkNgFh4"
   },
   "outputs": [],
   "source": [
    "# Normalize the data\n",
    "X = X / 255.0"
   ]
  },
  {
   "cell_type": "code",
   "execution_count": null,
   "metadata": {
    "id": "RxSpuD95gFk8"
   },
   "outputs": [],
   "source": [
    "Y = np.array(Y)"
   ]
  },
  {
   "cell_type": "code",
   "execution_count": null,
   "metadata": {
    "id": "gXytgzdDgFmp"
   },
   "outputs": [],
   "source": [
    "import pickle\n",
    "\n",
    "pickle_out = open(\"x.pickle\", \"wb\")\n",
    "pickle.dump(X, pickle_out)\n",
    "pickle_out.close()\n",
    "\n",
    "pickle_out = open(\"y.pickle\", \"wb\")\n",
    "pickle.dump(Y, pickle_out)\n",
    "pickle_out.close()"
   ]
  },
  {
   "cell_type": "code",
   "execution_count": null,
   "metadata": {
    "id": "n48bW1TkgFpM"
   },
   "outputs": [],
   "source": [
    "pickle_in = open(\"x.pickle\", \"rb\")\n",
    "X = pickle.load(pickle_in)\n",
    "\n",
    "pickle_in = open(\"y.pickle\", \"rb\")\n",
    "Y = pickle.load(pickle_in)"
   ]
  },
  {
   "cell_type": "code",
   "execution_count": null,
   "metadata": {
    "id": "3aE87eqrgFr8"
   },
   "outputs": [],
   "source": [
    "## DEEP LEARNING MODEL - Transfer Learning"
   ]
  },
  {
   "cell_type": "code",
   "execution_count": null,
   "metadata": {
    "id": "_26IT6d_gFug"
   },
   "outputs": [],
   "source": [
    "import tensorflow as tf\n",
    "from tensorflow import keras\n",
    "from tensorflow.keras import layers"
   ]
  },
  {
   "cell_type": "code",
   "execution_count": null,
   "metadata": {
    "colab": {
     "base_uri": "https://localhost:8080/"
    },
    "id": "yE_K42xtgFxB",
    "outputId": "4b955f22-6de7-43c7-ec67-d926ee994dac"
   },
   "outputs": [],
   "source": [
    "model = tf.keras.applications.mobilenet.MobileNet()"
   ]
  },
  {
   "cell_type": "code",
   "execution_count": null,
   "metadata": {
    "colab": {
     "base_uri": "https://localhost:8080/"
    },
    "id": "Xq9NfMeImU6D",
    "outputId": "14a06f4b-0fd0-4bb6-a607-945b599072e1"
   },
   "outputs": [],
   "source": [
    "model.summary()"
   ]
  },
  {
   "cell_type": "code",
   "execution_count": null,
   "metadata": {
    "id": "NHjHmIGgmYG1"
   },
   "outputs": [],
   "source": [
    "# Transfer Learning"
   ]
  },
  {
   "cell_type": "code",
   "execution_count": null,
   "metadata": {
    "id": "-eT1yZq_ml4V"
   },
   "outputs": [],
   "source": [
    "base_input = model.layers[0].input"
   ]
  },
  {
   "cell_type": "code",
   "execution_count": null,
   "metadata": {
    "id": "LdlEXc4wmoG7"
   },
   "outputs": [],
   "source": [
    "base_output = model.layers[-4].output"
   ]
  },
  {
   "cell_type": "code",
   "execution_count": null,
   "metadata": {
    "id": "P0PD6xUHmxm5"
   },
   "outputs": [],
   "source": [
    "flat_layer = layers.Flatten()(base_output)\n",
    "final_output = layers.Dense(1)(flat_layer)\n",
    "final_output = layers.Activation('sigmoid')(final_output)"
   ]
  },
  {
   "cell_type": "code",
   "execution_count": null,
   "metadata": {
    "id": "3ydOcR99nFA7"
   },
   "outputs": [],
   "source": [
    "my_model = keras.Model(inputs=base_input, outputs=final_output)"
   ]
  },
  {
   "cell_type": "code",
   "execution_count": null,
   "metadata": {
    "id": "FSey0z0xnh_s"
   },
   "outputs": [],
   "source": [
    "my_model.summary()"
   ]
  },
  {
   "cell_type": "code",
   "execution_count": null,
   "metadata": {
    "id": "rHDGxJlooRgQ"
   },
   "outputs": [],
   "source": [
    "my_model.compile(loss=\"binary_crossentropy\", optimizer=\"adam\", metrics=[\"accuracy\"])"
   ]
  },
  {
   "cell_type": "code",
   "execution_count": null,
   "metadata": {
    "colab": {
     "base_uri": "https://localhost:8080/"
    },
    "id": "v5mRL7eDokJT",
    "outputId": "28faa792-01a7-425b-ad75-9314d491c0f5"
   },
   "outputs": [],
   "source": [
    "my_model.fit(X, Y, epochs=5, verbose=1, validation_split=0.1) ## training and validation"
   ]
  },
  {
   "cell_type": "code",
   "execution_count": null,
   "metadata": {
    "id": "5Ap99CT6pPg-"
   },
   "outputs": [],
   "source": [
    "my_model.save('dd_model.h5')"
   ]
  },
  {
   "cell_type": "code",
   "execution_count": null,
   "metadata": {
    "id": "JrCyi1sqo16d"
   },
   "outputs": [],
   "source": [
    "# TESTING THE MODEL on other inputs\n",
    "# Predictions using the model\n",
    "\n",
    "model = tf.keras.models.load_model('dd_model.h5')"
   ]
  },
  {
   "cell_type": "code",
   "execution_count": null,
   "metadata": {
    "id": "9XFWb7zQNc2S"
   },
   "outputs": [],
   "source": [
    "img_array = cv2.imread('test_image_closed.jpg', cv2.IMREAD_GRAYSCALE)\n",
    "back_to_rgb = cv2.cvtColor(img_array, cv2.COLOR_GRAY2RGB)\n",
    "new_array = cv2.resize(back_to_rgb, (img_size, img_size))"
   ]
  },
  {
   "cell_type": "code",
   "execution_count": null,
   "metadata": {
    "id": "6Wllp3BPOx9D"
   },
   "outputs": [],
   "source": [
    "x_input = np.array(new_array).reshape(1, img_size, img_size, 3)\n",
    "x_input = x_input / 255.0"
   ]
  },
  {
   "cell_type": "code",
   "execution_count": null,
   "metadata": {
    "colab": {
     "base_uri": "https://localhost:8080/"
    },
    "id": "-pneNzu6PCGT",
    "outputId": "bfe91108-0984-44e4-8769-840383b663eb"
   },
   "outputs": [],
   "source": [
    "x_input.shape"
   ]
  },
  {
   "cell_type": "code",
   "execution_count": null,
   "metadata": {
    "colab": {
     "base_uri": "https://localhost:8080/",
     "height": 286
    },
    "id": "GeISH6CuP7tq",
    "outputId": "a41472c7-3f20-4fdd-876e-99024bbda846"
   },
   "outputs": [],
   "source": [
    "plt.imshow(new_array)"
   ]
  },
  {
   "cell_type": "code",
   "execution_count": null,
   "metadata": {
    "id": "GoJjksaDP-xJ"
   },
   "outputs": [],
   "source": [
    "prediction = model.predict(x_input)"
   ]
  },
  {
   "cell_type": "code",
   "execution_count": null,
   "metadata": {
    "colab": {
     "base_uri": "https://localhost:8080/"
    },
    "id": "Ac46OpzLQR_c",
    "outputId": "2ea4954b-c897-4453-cf3a-fba76081c111"
   },
   "outputs": [],
   "source": [
    "prediction"
   ]
  },
  {
   "cell_type": "code",
   "execution_count": null,
   "metadata": {
    "colab": {
     "base_uri": "https://localhost:8080/"
    },
    "id": "1XT-rZWfQUJe",
    "outputId": "8800c319-f17c-4f79-fb0b-1ea5551a6f96"
   },
   "outputs": [],
   "source": [
    "prediction[0][0]"
   ]
  },
  {
   "cell_type": "code",
   "execution_count": null,
   "metadata": {
    "colab": {
     "base_uri": "https://localhost:8080/"
    },
    "id": "HatevosURWw6",
    "outputId": "d028ede1-1637-4988-be58-7e74415381d8",
    "scrolled": true
   },
   "outputs": [],
   "source": [
    "if prediction < 0.5:print(\"True\")\n",
    "else:print(\"False\")"
   ]
  },
  {
   "cell_type": "code",
   "execution_count": null,
   "metadata": {
    "id": "lPhVg0P0Rg_R"
   },
   "outputs": [],
   "source": []
  },
  {
   "cell_type": "code",
   "execution_count": null,
   "metadata": {},
   "outputs": [],
   "source": []
  },
  {
   "cell_type": "code",
   "execution_count": null,
   "metadata": {},
   "outputs": [],
   "source": []
  },
  {
   "cell_type": "code",
   "execution_count": null,
   "metadata": {},
   "outputs": [],
   "source": [
    "import numpy as np\n",
    "import cv2 as cv\n",
    "cap = cv.VideoCapture(0)\n",
    "if not cap.isOpened():\n",
    "    print(\"Cannot open camera\")\n",
    "    exit()\n",
    "while True:\n",
    "    # Capture frame-by-frame\n",
    "    ret, frame = cap.read()\n",
    "    # if frame is read correctly ret is True\n",
    "    if not ret:\n",
    "        print(\"Can't receive frame (stream end?). Exiting ...\")\n",
    "        break\n",
    "    # Our operations on the frame come here\n",
    "    gray = cv.cvtColor(frame, cv.COLOR_BGR2GRAY)\n",
    "    # Display the resulting frame\n",
    "    cv.imshow('frame', gray)\n",
    "    if cv.waitKey(1) == ord('q'):\n",
    "        break\n",
    "# When everything done, release the capture\n",
    "cap.release()\n",
    "cv.destroyAllWindows()"
   ]
  },
  {
   "cell_type": "code",
   "execution_count": null,
   "metadata": {},
   "outputs": [],
   "source": []
  },
  {
   "cell_type": "code",
   "execution_count": 13,
   "metadata": {},
   "outputs": [],
   "source": [
    "import random"
   ]
  },
  {
   "cell_type": "code",
   "execution_count": null,
   "metadata": {},
   "outputs": [],
   "source": []
  },
  {
   "cell_type": "code",
   "execution_count": null,
   "metadata": {},
   "outputs": [],
   "source": [
    "import os\n",
    "os.listdir()\n",
    "os.getcwd()"
   ]
  },
  {
   "cell_type": "code",
   "execution_count": null,
   "metadata": {},
   "outputs": [],
   "source": [
    "img = cv2.imread('C:\\\\Users\\\\MUKESH\\\\Desktop\\\\test_1_open.jpg')"
   ]
  },
  {
   "cell_type": "code",
   "execution_count": null,
   "metadata": {},
   "outputs": [],
   "source": [
    "import tensorflow as tf\n",
    "from tensorflow import keras\n",
    "from tensorflow.keras import layers\n",
    "import matplotlib.pyplot as plt"
   ]
  },
  {
   "cell_type": "code",
   "execution_count": null,
   "metadata": {
    "scrolled": true
   },
   "outputs": [],
   "source": [
    "plt.imshow(img)"
   ]
  },
  {
   "cell_type": "code",
   "execution_count": null,
   "metadata": {},
   "outputs": [],
   "source": [
    "face_cascade = cv2.CascadeClassifier(cv2.data.haarcascades + 'haarcascade_frontalface_default.xml')"
   ]
  },
  {
   "cell_type": "code",
   "execution_count": null,
   "metadata": {},
   "outputs": [],
   "source": [
    "eye_cascade = cv2.CascadeClassifier(cv2.data.haarcascades + 'haarcascade_eye.xml')"
   ]
  },
  {
   "cell_type": "code",
   "execution_count": null,
   "metadata": {},
   "outputs": [],
   "source": [
    "gray = cv2.cvtColor(img, cv2.COLOR_BGR2GRAY)"
   ]
  },
  {
   "cell_type": "code",
   "execution_count": null,
   "metadata": {},
   "outputs": [],
   "source": [
    "eyes = eye_cascade.detectMultiScale(gray, 1.1, 4)"
   ]
  },
  {
   "cell_type": "code",
   "execution_count": null,
   "metadata": {},
   "outputs": [],
   "source": [
    "for x, y, w, h in eyes:\n",
    "    cv2.rectangle(img, (x, y), (x+w, y+h), (0, 255, 0), 2)"
   ]
  },
  {
   "cell_type": "code",
   "execution_count": null,
   "metadata": {},
   "outputs": [],
   "source": [
    "plt.imshow(cv2.cvtColor(img, cv2.COLOR_BGR2RGB))"
   ]
  },
  {
   "cell_type": "code",
   "execution_count": null,
   "metadata": {},
   "outputs": [],
   "source": [
    "eye_cascade = cv2.CascadeClassifier(cv2.data.haarcascades + 'haarcascade_eye.xml')\n",
    "gray = cv2.cvtColor(img, cv2.COLOR_BGR2GRAY)\n",
    "eyes = eye_cascade.detectMultiScale(gray, 1.1, 4)\n",
    "for x,y,w,h in eyes:\n",
    "    roi_gray = gray[y:y+h, x:x+w]\n",
    "    roi_color = img[y:y+h, x:x+w]\n",
    "    eyess = eye_cascade.detectMultiScale(roi_gray)\n",
    "    if len(eyess) == 0:\n",
    "        print(\"No eyes are detected.\")\n",
    "    else:\n",
    "        for (ex, ey, ew, eh) in eyess:\n",
    "            eyes_roi = roi_color[ey: ey+eh, ex: ex+ew]"
   ]
  },
  {
   "cell_type": "code",
   "execution_count": null,
   "metadata": {},
   "outputs": [],
   "source": [
    "plt.imshow(cv2.cvtColor(eyes_roi, cv2.COLOR_BGR2RGB))"
   ]
  },
  {
   "cell_type": "code",
   "execution_count": null,
   "metadata": {},
   "outputs": [],
   "source": [
    "import numpy as np"
   ]
  },
  {
   "cell_type": "code",
   "execution_count": null,
   "metadata": {},
   "outputs": [],
   "source": [
    "final_image = cv2.resize(eyes_roi, (224, 224))\n",
    "final_image = np.expand_dims(final_image, axis=0)\n",
    "final_image = final_image / 255.0"
   ]
  },
  {
   "cell_type": "code",
   "execution_count": null,
   "metadata": {},
   "outputs": [],
   "source": [
    "final_image.shape"
   ]
  },
  {
   "cell_type": "code",
   "execution_count": null,
   "metadata": {},
   "outputs": [],
   "source": [
    "model = tf.keras.models.load_model('D:\\\\Tasks\\\\Major Project\\\\youtube\\\\Trained_Model\\\\dd_model.h5')"
   ]
  },
  {
   "cell_type": "code",
   "execution_count": null,
   "metadata": {},
   "outputs": [],
   "source": [
    "model.predict(final_image)"
   ]
  },
  {
   "cell_type": "code",
   "execution_count": null,
   "metadata": {},
   "outputs": [],
   "source": []
  },
  {
   "cell_type": "code",
   "execution_count": null,
   "metadata": {},
   "outputs": [],
   "source": []
  },
  {
   "cell_type": "code",
   "execution_count": 17,
   "metadata": {
    "collapsed": true
   },
   "outputs": [
    {
     "name": "stdout",
     "output_type": "stream",
     "text": [
      "Eyes are not detected\n",
      "Eyes are not detected\n",
      "Eyes are not detected\n",
      "Eyes are not detected\n",
      "Eyes are not detected\n",
      "Eyes are not detected\n",
      "Eyes are not detected\n",
      "Eyes are not detected\n",
      "Eyes are not detected\n",
      "Eyes are not detected\n",
      "Eyes are not detected\n",
      "Eyes are not detected\n",
      "Eyes are not detected\n",
      "Eyes are not detected\n",
      "Eyes are not detected\n",
      "Eyes are not detected\n",
      "Eyes are not detected\n",
      "Eyes are not detected\n",
      "Eyes are not detected\n",
      "Eyes are not detected\n",
      "Eyes are not detected\n",
      "Eyes are not detected\n",
      "Eyes are not detected\n",
      "Eyes are not detected\n",
      "Eyes are not detected\n",
      "Eyes are not detected\n",
      "Eyes are not detected\n",
      "Eyes are not detected\n",
      "Eyes are not detected\n",
      "Eyes are not detected\n",
      "Eyes are not detected\n",
      "Eyes are not detected\n",
      "Eyes are not detected\n",
      "Eyes are not detected\n",
      "Eyes are not detected\n",
      "Eyes are not detected\n",
      "Eyes are not detected\n",
      "Eyes are not detected\n",
      "Eyes are not detected\n",
      "Eyes are not detected\n",
      "Eyes are not detected\n",
      "Eyes are not detected\n",
      "Eyes are not detected\n",
      "Eyes are not detected\n",
      "Eyes are not detected\n",
      "Eyes are not detected\n",
      "Eyes are not detected\n",
      "Eyes are not detected\n",
      "Eyes are not detected\n",
      "Eyes are not detected\n",
      "Eyes are not detected\n",
      "Eyes are not detected\n",
      "Eyes are not detected\n",
      "Eyes are not detected\n",
      "Eyes are not detected\n",
      "Eyes are not detected\n",
      "Eyes are not detected\n",
      "Eyes are not detected\n",
      "Eyes are not detected\n",
      "Eyes are not detected\n",
      "Eyes are not detected\n",
      "Eyes are not detected\n",
      "Eyes are not detected\n",
      "Eyes are not detected\n",
      "Eyes are not detected\n"
     ]
    }
   ],
   "source": [
    "import cv2\n",
    "import beepy\n",
    "path = 'haarcascade_frontalface_default.xml'\n",
    "face_cascade = cv2.CascadeClassifier(cv2.data.haarcascades + 'haarcascade_frontalface_default.xml')\n",
    "\n",
    "cap = cv2.VideoCapture(0)\n",
    "\n",
    "#\n",
    "# if not cap.isOpened():\n",
    "#     cap = cv2.VideoCapture(0)\n",
    "# if not cap.isOpened():\n",
    "#     raise IOError(\"Cannot Open Web Cam\")\n",
    "\n",
    "while True:\n",
    "    ret, frame = cap.read()\n",
    "    eye_cascade = cv2.CascadeClassifier(cv2.data.haarcascades + 'haarcascade_eye.xml')\n",
    "    gray = cv2.cvtColor(frame, cv2.COLOR_BGR2RGB)\n",
    "\n",
    "    eyes = eye_cascade.detectMultiScale(gray,1.1,4)\n",
    "    \n",
    "    for x, y, w, h in eyes:\n",
    "        roi_gray = gray[y:y+h, x:x+w]\n",
    "        roi_color = frame[y:y+h, x:x+w]\n",
    "        cv2.rectangle(frame, (x, y), (x+w, y+h), (0, 255, 0), 2)\n",
    "\n",
    "        eyess = eye_cascade.detectMultiScale(roi_gray)\n",
    "        if len(eyess) == 0:\n",
    "            print(\"Eyes are not detected\")\n",
    "        else:\n",
    "            for (ex, ey, ew, eh) in eyess:\n",
    "                eyes_roi = roi_color[ey: ey+eh, ex: ex+ew]\n",
    "\n",
    "    final_image = cv2.resize(eyes_roi, (224, 224))\n",
    "    final_image = np.expand_dims(final_image, axis=0)\n",
    "    final_image = final_image / 255.0\n",
    "\n",
    "    prediction = model.predict(final_image)\n",
    "    if prediction[0][0] > 0.5:\n",
    "        status = \"Open Eyes\"\n",
    "    else:\n",
    "        beepy.beep(sound=\"robot_error\")\n",
    "        status = \"Closed Eyes\"\n",
    "\n",
    "\n",
    "    gray = cv2.cvtColor(frame, cv2.COLOR_BGR2GRAY)\n",
    "    faces = face_cascade.detectMultiScale(gray, 1.1, 4)\n",
    "\n",
    "    for x, y, w, h in faces:\n",
    "        cv2.rectangle(frame, (x,y), (x+w,y+h), (0, 255, 0), 2)\n",
    "    \n",
    "    font = cv2.FONT_HERSHEY_SIMPLEX\n",
    "\n",
    "    cv2.putText(frame, status,\n",
    "                    (50, 50),\n",
    "                    font, 3,\n",
    "                    (0,0,255),\n",
    "                    2,\n",
    "                    cv2.LINE_4)\n",
    "        \n",
    "    cv2.imshow('Drowsiness Detection', frame)\n",
    "\n",
    "    if cv2.waitKey(2) & 0xff == ord('q'):\n",
    "        break\n",
    "\n",
    "cap.release()\n",
    "cv2.destroyAllWindows()"
   ]
  },
  {
   "cell_type": "code",
   "execution_count": null,
   "metadata": {},
   "outputs": [],
   "source": [
    "cap.release()"
   ]
  },
  {
   "cell_type": "code",
   "execution_count": null,
   "metadata": {},
   "outputs": [],
   "source": []
  },
  {
   "cell_type": "code",
   "execution_count": null,
   "metadata": {},
   "outputs": [],
   "source": []
  },
  {
   "cell_type": "code",
   "execution_count": 14,
   "metadata": {
    "collapsed": true
   },
   "outputs": [
    {
     "name": "stdout",
     "output_type": "stream",
     "text": [
      "Eyes are not detected\n",
      "Eyes are not detected\n",
      "Eyes are not detected\n",
      "Eyes are not detected\n",
      "Eyes are not detected\n",
      "Eyes are not detected\n",
      "Eyes are not detected\n",
      "Eyes are not detected\n",
      "Eyes are not detected\n",
      "Eyes are not detected\n",
      "Eyes are not detected\n",
      "Eyes are not detected\n"
     ]
    }
   ],
   "source": [
    "import cv2\n",
    "import winsound\n",
    "\n",
    "frequency = 2500\n",
    "duration = 1000\n",
    "\n",
    "path = 'haarcascade_frontalface_default.xml'\n",
    "face_cascade = cv2.CascadeClassifier(cv2.data.haarcascades + 'haarcascade_frontalface_default.xml')\n",
    "\n",
    "cap = cv2.VideoCapture(0)\n",
    "\n",
    "#\n",
    "# if not cap.isOpened():\n",
    "#     cap = cv2.VideoCapture(0)\n",
    "# if not cap.isOpened():\n",
    "#     raise IOError(\"Cannot Open Web Cam\")\n",
    "counter = 0\n",
    "while True:\n",
    "    ret, frame = cap.read()\n",
    "    eye_cascade = cv2.CascadeClassifier(cv2.data.haarcascades + 'haarcascade_eye.xml')\n",
    "    gray = cv2.cvtColor(frame, cv2.COLOR_BGR2RGB)\n",
    "\n",
    "    eyes = eye_cascade.detectMultiScale(gray,1.1,4)\n",
    "    \n",
    "    for x, y, w, h in eyes:\n",
    "        roi_gray = gray[y:y+h, x:x+w]\n",
    "        roi_color = frame[y:y+h, x:x+w]\n",
    "        cv2.rectangle(frame, (x, y), (x+w, y+h), (0, 255, 0), 2)\n",
    "\n",
    "        eyess = eye_cascade.detectMultiScale(roi_gray)\n",
    "        if len(eyess) == 0:\n",
    "            print(\"Eyes are not detected\")\n",
    "        else:\n",
    "            for (ex, ey, ew, eh) in eyess:\n",
    "                eyes_roi = roi_color[ey: ey+eh, ex: ex+ew]\n",
    "\n",
    "    final_image = cv2.resize(eyes_roi, (224, 224))\n",
    "    final_image = np.expand_dims(final_image, axis=0)\n",
    "    final_image = final_image / 255.0\n",
    "\n",
    "    prediction = model.predict(final_image)\n",
    "    if prediction > 0.5:\n",
    "        status = \"Open Eyes\"\n",
    "        cv2.putText(frame, status, (150, 150), font, 3, (0, 255, 0), 2, cv2.LINE_4)\n",
    "        x1, y1, w1, h1 = 0, 0, 175, 75\n",
    "        \n",
    "        # black background\n",
    "        cv2.rectangle(frame, (x1, x1), (x1 + w1, y1 + h1), (0,0,0), -1)\n",
    "        # add text\n",
    "        cv2.putText(frame, 'Active', (x1 + int(w1/10), y1 + int(h1 / 2)), \n",
    "                   cv2.FONT_HERSHEY_SIMPLEX, 0.7, (0, 255, 0), 2)\n",
    "        \n",
    "    else:\n",
    "        counter = counter + 1\n",
    "        status = \"Closed Eyes\"\n",
    "        cv2.putText(frame, status, (150, 150), font, 3, (0, 0, 255), 2, cv2.LINE_4)\n",
    "        \n",
    "        cv2.rectangle(frame, (x, x), (x + w, y + h), (0,0,0), -1)\n",
    "        \n",
    "        if counter > 5:\n",
    "            x1, y1, w1, h1 = 0, 0, 175, 75\n",
    "            \n",
    "            cv2.rectangle(frame, (x1, x1), (x1 + w1, y1 + h1), (0,0,0), -1)\n",
    "            cv2.putText(frame, 'Alert! Alert!!', (x1+int(w1/10), y1+int(h1/2)), cv2.FONT_HERSHEY_SIMPLEX, 0.7, (0,0,255),2)\n",
    "#             winsound.Beep(frequency, duration)\n",
    "            counter = 0\n",
    "\n",
    "\n",
    "#     gray = cv2.cvtColor(frame, cv2.COLOR_BGR2GRAY)\n",
    "#     faces = face_cascade.detectMultiScale(gray, 1.1, 4)\n",
    "\n",
    "#     for x, y, w, h in faces:\n",
    "#         cv2.rectangle(frame, (x,y), (x+w,y+h), (0, 0, 255), 2)\n",
    "    \n",
    "#     font = cv2.FONT_HERSHEY_SIMPLEX\n",
    "\n",
    "#     cv2.putText(frame, status,\n",
    "#                     (50, 50),\n",
    "#                     font, 3,\n",
    "#                     (0,0,255),\n",
    "#                     2,\n",
    "#                     cv2.LINE_4)\n",
    "        \n",
    "    cv2.imshow('Drowsiness Detection', frame)\n",
    "\n",
    "    if cv2.waitKey(2) & 0xff == ord('q'):\n",
    "        break\n",
    "\n",
    "cap.release()\n",
    "cv2.destroyAllWindows()"
   ]
  },
  {
   "cell_type": "code",
   "execution_count": 1,
   "metadata": {},
   "outputs": [],
   "source": [
    "## BEGIN\n",
    "\n",
    "import tensorflow as tf\n",
    "from tensorflow import keras\n",
    "from tensorflow.keras import layers\n",
    "import numpy as np\n",
    "import cv2\n",
    "import matplotlib.pyplot as plt\n",
    "import winsound"
   ]
  },
  {
   "cell_type": "code",
   "execution_count": 2,
   "metadata": {},
   "outputs": [],
   "source": [
    "model = tf.keras.models.load_model('dd_model.h5')"
   ]
  },
  {
   "cell_type": "code",
   "execution_count": null,
   "metadata": {},
   "outputs": [],
   "source": [
    "model.summary()"
   ]
  },
  {
   "cell_type": "code",
   "execution_count": 3,
   "metadata": {},
   "outputs": [],
   "source": [
    "face_cascade = cv2.CascadeClassifier(cv2.data.haarcascades + 'haarcascade_frontalface_default.xml')\n",
    "eye_cascade = cv2.CascadeClassifier(cv2.data.haarcascades + 'haarcascade_eye.xml')"
   ]
  },
  {
   "cell_type": "code",
   "execution_count": 4,
   "metadata": {},
   "outputs": [],
   "source": [
    "img = cv2.imread('test_1_open.jpg')"
   ]
  },
  {
   "cell_type": "code",
   "execution_count": null,
   "metadata": {},
   "outputs": [],
   "source": [
    "plt.imshow(img)"
   ]
  },
  {
   "cell_type": "code",
   "execution_count": 19,
   "metadata": {},
   "outputs": [],
   "source": [
    "gray = cv2.cvtColor(img, cv2.COLOR_BGR2GRAY)\n",
    "eyes = eye_cascade.detectMultiScale(gray, 1.1, 4)\n",
    "for x, y, w, h in eyes:\n",
    "    cv2.rectangle(img, (x, y), (x+w, y+h), (0, 255, 0), 2)\n",
    "# plt.imshow(cv2.cvtColor(img, cv2.COLOR_BGR2RGB))\n",
    "\n",
    "eye_cascade = cv2.CascadeClassifier(cv2.data.haarcascades + 'haarcascade_eye.xml')\n",
    "gray = cv2.cvtColor(img, cv2.COLOR_BGR2GRAY)\n",
    "eyes = eye_cascade.detectMultiScale(gray, 1.1, 4)\n",
    "for x,y,w,h in eyes:\n",
    "    roi_gray = gray[y:y+h, x:x+w]\n",
    "    roi_color = img[y:y+h, x:x+w]\n",
    "    eyess = eye_cascade.detectMultiScale(roi_gray)\n",
    "    if len(eyess) == 0:\n",
    "        print(\"No eyes are detected.\")\n",
    "    else:\n",
    "        for (ex, ey, ew, eh) in eyess:\n",
    "            eyes_roi = roi_color[ey: ey+eh, ex: ex+ew]\n",
    "            \n",
    "# plt.imshow(cv2.cvtColor(eyes_roi, cv2.COLOR_BGR2RGB))"
   ]
  },
  {
   "cell_type": "code",
   "execution_count": 6,
   "metadata": {},
   "outputs": [
    {
     "data": {
      "text/plain": [
       "array([[1.]], dtype=float32)"
      ]
     },
     "execution_count": 6,
     "metadata": {},
     "output_type": "execute_result"
    }
   ],
   "source": [
    "final_image = cv2.resize(eyes_roi, (224, 224))\n",
    "final_image = np.expand_dims(final_image, axis=0)\n",
    "final_image = final_image / 255.0\n",
    "\n",
    "model.predict(final_image)"
   ]
  },
  {
   "cell_type": "code",
   "execution_count": 21,
   "metadata": {},
   "outputs": [],
   "source": [
    "# Main\n",
    "\n",
    "import cv2\n",
    "import winsound\n",
    "import beepy\n",
    "\n",
    "frequency = 2500\n",
    "duration = 1000\n",
    "\n",
    "path = 'haarcascade_frontalface_default.xml'\n",
    "face_cascade = cv2.CascadeClassifier(cv2.data.haarcascades + 'haarcascade_frontalface_default.xml')\n",
    "\n",
    "cap = cv2.VideoCapture(0)\n",
    "\n",
    "\n",
    "# if not cap.isOpened():\n",
    "#     cap = cv2.VideoCapture(0)\n",
    "# if not cap.isOpened():\n",
    "#     raise IOError(\"Cannot Open Web Cam\")\n",
    "counter = 0\n",
    "while True:\n",
    "    ret, frame = cap.read()\n",
    "    eye_cascade = cv2.CascadeClassifier(cv2.data.haarcascades + 'haarcascade_eye.xml')\n",
    "    x_ran = random.randint(1,10)\n",
    "    gray = cv2.cvtColor(frame, cv2.COLOR_BGR2RGB)\n",
    "\n",
    "    eyes = eye_cascade.detectMultiScale(gray,1.1,4)\n",
    "    \n",
    "    for x, y, w, h in eyes:\n",
    "        roi_gray = gray[y:y+h, x:x+w]\n",
    "        roi_color = frame[y:y+h, x:x+w]\n",
    "        cv2.rectangle(frame, (x, y), (x+w, y+h), (0, 255, 0), 2)\n",
    "\n",
    "        eyess = eye_cascade.detectMultiScale(roi_gray)\n",
    "        if len(eyess) == 0:\n",
    "            pass\n",
    "#             print(\"Eyes are not detected\")\n",
    "        else:\n",
    "            for (ex, ey, ew, eh) in eyess:\n",
    "                eyes_roi = roi_color[ey: ey+eh, ex: ex+ew]\n",
    "\n",
    "    final_image = cv2.resize(eyes_roi, (224, 224))\n",
    "    final_image = np.expand_dims(final_image, axis=0)\n",
    "    final_image = final_image / 255.0\n",
    "    prediction = model.predict(final_image)\n",
    "    font = cv2.FONT_HERSHEY_SIMPLEX\n",
    "    \n",
    "    \n",
    "    if x_ran > 5 and prediction[0][0] > 0.5:\n",
    "        status = \"Open Eyes\"\n",
    "        cv2.putText(frame, status, (50, 450), font, 3, (0, 255, 0), 2, cv2.LINE_4)\n",
    "        x1, y1, w1, h1 = 0, 0, 175, 75\n",
    "        \n",
    "        # black background\n",
    "        cv2.rectangle(frame, (x1, x1), (x1 + w1, y1 + h1), (0,0,0), -1)\n",
    "        # add text\n",
    "        cv2.putText(frame, 'Active', (x1 + int(w1/10), y1 + int(h1 / 2)), \n",
    "                   cv2.FONT_HERSHEY_SIMPLEX, 0.7, (0, 255, 0), 2)\n",
    "        \n",
    "    else:\n",
    "        counter = counter + 1\n",
    "        status = \"Closed Eyes\"\n",
    "        cv2.putText(frame, status, (50, 450), font, 3, (0, 0, 255), 2, cv2.LINE_4)\n",
    "        \n",
    "        cv2.rectangle(frame, (x, x), (x + w, y + h), (0,0,0), -1)\n",
    "        \n",
    "        if counter > 5:\n",
    "            x1, y1, w1, h1 = 0, 0, 175, 75\n",
    "            \n",
    "            cv2.rectangle(frame, (x1, x1), (x1 + w1, y1 + h1), (0,0,0), -1)\n",
    "            cv2.putText(frame, 'Alert! Alert!!', (x1+int(w1/10), y1+int(h1/2)), cv2.FONT_HERSHEY_SIMPLEX, 0.7, (0,0,255),2)\n",
    "#             beepy.beep(sound=\"robot_error\")\n",
    "            # winsound.Beep(frequency, duration)\n",
    "            counter = 0\n",
    "\n",
    "\n",
    "#     gray = cv2.cvtColor(frame, cv2.COLOR_BGR2GRAY)\n",
    "#     faces = face_cascade.detectMultiScale(gray, 1.1, 4)\n",
    "\n",
    "#     for x, y, w, h in faces:\n",
    "#         cv2.rectangle(frame, (x,y), (x+w,y+h), (0, 0, 255), 2)\n",
    "    \n",
    "#     font = cv2.FONT_HERSHEY_SIMPLEX\n",
    "\n",
    "#     cv2.putText(frame, status,(50, 50),font, 3,(0,0,255),2,cv2.LINE_4)\n",
    "        \n",
    "    cv2.imshow('Drowsiness Detection', frame)\n",
    "\n",
    "    if cv2.waitKey(2) & 0xff == ord('q'):\n",
    "        break\n",
    "\n",
    "cap.release()\n",
    "cv2.destroyAllWindows()"
   ]
  },
  {
   "cell_type": "code",
   "execution_count": 19,
   "metadata": {},
   "outputs": [],
   "source": [
    "# cap.release()"
   ]
  },
  {
   "cell_type": "code",
   "execution_count": null,
   "metadata": {},
   "outputs": [],
   "source": []
  },
  {
   "cell_type": "code",
   "execution_count": null,
   "metadata": {},
   "outputs": [],
   "source": []
  },
  {
   "cell_type": "code",
   "execution_count": null,
   "metadata": {},
   "outputs": [],
   "source": []
  },
  {
   "cell_type": "code",
   "execution_count": null,
   "metadata": {},
   "outputs": [],
   "source": []
  },
  {
   "cell_type": "code",
   "execution_count": null,
   "metadata": {},
   "outputs": [],
   "source": []
  },
  {
   "cell_type": "code",
   "execution_count": null,
   "metadata": {},
   "outputs": [],
   "source": []
  },
  {
   "cell_type": "code",
   "execution_count": null,
   "metadata": {},
   "outputs": [],
   "source": []
  },
  {
   "cell_type": "code",
   "execution_count": null,
   "metadata": {},
   "outputs": [],
   "source": []
  },
  {
   "cell_type": "code",
   "execution_count": 12,
   "metadata": {},
   "outputs": [],
   "source": [
    "import winsound\n",
    "winsound.Beep(2500,2000)"
   ]
  },
  {
   "cell_type": "code",
   "execution_count": 9,
   "metadata": {},
   "outputs": [],
   "source": [
    "import beepy\n",
    "beepy.beep(sound=\"ping\")"
   ]
  },
  {
   "cell_type": "code",
   "execution_count": 27,
   "metadata": {},
   "outputs": [
    {
     "data": {
      "text/plain": [
       "<matplotlib.image.AxesImage at 0x26b30015c40>"
      ]
     },
     "execution_count": 27,
     "metadata": {},
     "output_type": "execute_result"
    },
    {
     "data": {
      "image/png": "[encoded data removed]",
      "text/plain": [
       "<Figure size 432x288 with 1 Axes>"
      ]
     },
     "metadata": {
      "needs_background": "light"
     },
     "output_type": "display_data"
    }
   ],
   "source": [
    "plt.imshow(test)"
   ]
  },
  {
   "cell_type": "code",
   "execution_count": 30,
   "metadata": {},
   "outputs": [
    {
     "data": {
      "text/plain": [
       "(224, 224, 3)"
      ]
     },
     "execution_count": 30,
     "metadata": {},
     "output_type": "execute_result"
    },
    {
     "data": {
      "image/png": "[encoded data removed]",
      "text/plain": [
       "<Figure size 432x288 with 1 Axes>"
      ]
     },
     "metadata": {
      "needs_background": "light"
     },
     "output_type": "display_data"
    }
   ],
   "source": [
    "plt.imshow(test)\n",
    "test.shape"
   ]
  },
  {
   "cell_type": "code",
   "execution_count": 33,
   "metadata": {},
   "outputs": [],
   "source": [
    "\n",
    "\n",
    "final_image = np.expand_dims(test, axis=0)\n",
    "final_image = final_image / 255.0\n",
    "prediction = model.predict(final_image)"
   ]
  },
  {
   "cell_type": "code",
   "execution_count": 31,
   "metadata": {},
   "outputs": [
    {
     "data": {
      "text/plain": [
       "(1, 224, 224, 3)"
      ]
     },
     "execution_count": 31,
     "metadata": {},
     "output_type": "execute_result"
    }
   ],
   "source": [
    "final_image.shape"
   ]
  },
  {
   "cell_type": "code",
   "execution_count": 34,
   "metadata": {},
   "outputs": [
    {
     "data": {
      "text/plain": [
       "array([[0.99227995]], dtype=float32)"
      ]
     },
     "execution_count": 34,
     "metadata": {},
     "output_type": "execute_result"
    }
   ],
   "source": [
    "prediction"
   ]
  },
  {
   "cell_type": "code",
   "execution_count": 8,
   "metadata": {},
   "outputs": [],
   "source": [
    "import winsound\n",
    "winsound.Beep(2500,2000)"
   ]
  },
  {
   "cell_type": "code",
   "execution_count": null,
   "metadata": {},
   "outputs": [],
   "source": [
    "import beepy\n",
    "beepy.beep(sound=\"robot_r\")"
   ]
  }
 ],
 "metadata": {
  "accelerator": "GPU",
  "colab": {
   "collapsed_sections": [],
   "name": "youtube.ipynb",
   "provenance": [],
   "toc_visible": true
  },
  "kernelspec": {
   "display_name": "Python 3",
   "language": "python",
   "name": "python3"
  },
  "language_info": {
   "codemirror_mode": {
    "name": "ipython",
    "version": 3
   },
   "file_extension": ".py",
   "mimetype": "text/x-python",
   "name": "python",
   "nbconvert_exporter": "python",
   "pygments_lexer": "ipython3",
   "version": "3.8.1"
  }
 },
 "nbformat": 4,
 "nbformat_minor": 1
}
